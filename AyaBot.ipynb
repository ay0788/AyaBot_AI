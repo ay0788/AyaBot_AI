{
  "nbformat": 4,
  "nbformat_minor": 0,
  "metadata": {
    "colab": {
      "provenance": []
    },
    "kernelspec": {
      "name": "python3",
      "display_name": "Python 3"
    },
    "language_info": {
      "name": "python"
    }
  },
  "cells": [
    {
      "cell_type": "markdown",
      "source": [
        "# **Smart Aya Bot Using Python & Machine Learning :ARTIFICIAL INTELLIGENCE IN TODAY’S WORLD![aia.webp](data:image/webp;base64,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)**"
      ],
      "metadata": {
        "id": "NMjC6pXnRYgN"
      }
    },
    {
      "cell_type": "markdown",
      "source": [
        "# Meet AyaBot, your guide to the fascinating realm of Artificial Intelligence in today’s world! 🌐 AyaBot is here to answer your questions, explore AI’s transformative impacts, navigate its challenges, and uncover the opportunities it offers. Whether you're curious about AI ethics, its role in innovation, or its influence on industries, AyaBot is ready to dive into the conversation and spark ideas for an AI-powered future! 🚀"
      ],
      "metadata": {
        "id": "1SkWeoTvA7Ci"
      }
    },
    {
      "cell_type": "code",
      "source": [
        "pip install nltk\n"
      ],
      "metadata": {
        "colab": {
          "base_uri": "https://localhost:8080/"
        },
        "id": "FKbS2L_IZ4vC",
        "outputId": "92c057b7-95d3-4e37-9e6f-4aab4bcaa403"
      },
      "execution_count": 15,
      "outputs": [
        {
          "output_type": "stream",
          "name": "stdout",
          "text": [
            "Requirement already satisfied: nltk in /usr/local/lib/python3.10/dist-packages (3.9.1)\n",
            "Requirement already satisfied: click in /usr/local/lib/python3.10/dist-packages (from nltk) (8.1.7)\n",
            "Requirement already satisfied: joblib in /usr/local/lib/python3.10/dist-packages (from nltk) (1.4.2)\n",
            "Requirement already satisfied: regex>=2021.8.3 in /usr/local/lib/python3.10/dist-packages (from nltk) (2024.9.11)\n",
            "Requirement already satisfied: tqdm in /usr/local/lib/python3.10/dist-packages (from nltk) (4.66.6)\n"
          ]
        }
      ]
    },
    {
      "cell_type": "code",
      "source": [
        "pip install newspaper3k\n"
      ],
      "metadata": {
        "colab": {
          "base_uri": "https://localhost:8080/"
        },
        "id": "o2wsSDUlaX6a",
        "outputId": "8afdf287-2c4c-4420-8d88-be38b612cad5"
      },
      "execution_count": 14,
      "outputs": [
        {
          "output_type": "stream",
          "name": "stdout",
          "text": [
            "Requirement already satisfied: newspaper3k in /usr/local/lib/python3.10/dist-packages (0.2.8)\n",
            "Requirement already satisfied: beautifulsoup4>=4.4.1 in /usr/local/lib/python3.10/dist-packages (from newspaper3k) (4.12.3)\n",
            "Requirement already satisfied: Pillow>=3.3.0 in /usr/local/lib/python3.10/dist-packages (from newspaper3k) (11.0.0)\n",
            "Requirement already satisfied: PyYAML>=3.11 in /usr/local/lib/python3.10/dist-packages (from newspaper3k) (6.0.2)\n",
            "Requirement already satisfied: cssselect>=0.9.2 in /usr/local/lib/python3.10/dist-packages (from newspaper3k) (1.2.0)\n",
            "Requirement already satisfied: lxml>=3.6.0 in /usr/local/lib/python3.10/dist-packages (from newspaper3k) (5.3.0)\n",
            "Requirement already satisfied: nltk>=3.2.1 in /usr/local/lib/python3.10/dist-packages (from newspaper3k) (3.9.1)\n",
            "Requirement already satisfied: requests>=2.10.0 in /usr/local/lib/python3.10/dist-packages (from newspaper3k) (2.32.3)\n",
            "Requirement already satisfied: feedparser>=5.2.1 in /usr/local/lib/python3.10/dist-packages (from newspaper3k) (6.0.11)\n",
            "Requirement already satisfied: tldextract>=2.0.1 in /usr/local/lib/python3.10/dist-packages (from newspaper3k) (5.1.3)\n",
            "Requirement already satisfied: feedfinder2>=0.0.4 in /usr/local/lib/python3.10/dist-packages (from newspaper3k) (0.0.4)\n",
            "Requirement already satisfied: jieba3k>=0.35.1 in /usr/local/lib/python3.10/dist-packages (from newspaper3k) (0.35.1)\n",
            "Requirement already satisfied: python-dateutil>=2.5.3 in /usr/local/lib/python3.10/dist-packages (from newspaper3k) (2.8.2)\n",
            "Requirement already satisfied: tinysegmenter==0.3 in /usr/local/lib/python3.10/dist-packages (from newspaper3k) (0.3)\n",
            "Requirement already satisfied: soupsieve>1.2 in /usr/local/lib/python3.10/dist-packages (from beautifulsoup4>=4.4.1->newspaper3k) (2.6)\n",
            "Requirement already satisfied: six in /usr/local/lib/python3.10/dist-packages (from feedfinder2>=0.0.4->newspaper3k) (1.16.0)\n",
            "Requirement already satisfied: sgmllib3k in /usr/local/lib/python3.10/dist-packages (from feedparser>=5.2.1->newspaper3k) (1.0.0)\n",
            "Requirement already satisfied: click in /usr/local/lib/python3.10/dist-packages (from nltk>=3.2.1->newspaper3k) (8.1.7)\n",
            "Requirement already satisfied: joblib in /usr/local/lib/python3.10/dist-packages (from nltk>=3.2.1->newspaper3k) (1.4.2)\n",
            "Requirement already satisfied: regex>=2021.8.3 in /usr/local/lib/python3.10/dist-packages (from nltk>=3.2.1->newspaper3k) (2024.9.11)\n",
            "Requirement already satisfied: tqdm in /usr/local/lib/python3.10/dist-packages (from nltk>=3.2.1->newspaper3k) (4.66.6)\n",
            "Requirement already satisfied: charset-normalizer<4,>=2 in /usr/local/lib/python3.10/dist-packages (from requests>=2.10.0->newspaper3k) (3.4.0)\n",
            "Requirement already satisfied: idna<4,>=2.5 in /usr/local/lib/python3.10/dist-packages (from requests>=2.10.0->newspaper3k) (3.10)\n",
            "Requirement already satisfied: urllib3<3,>=1.21.1 in /usr/local/lib/python3.10/dist-packages (from requests>=2.10.0->newspaper3k) (2.2.3)\n",
            "Requirement already satisfied: certifi>=2017.4.17 in /usr/local/lib/python3.10/dist-packages (from requests>=2.10.0->newspaper3k) (2024.8.30)\n",
            "Requirement already satisfied: requests-file>=1.4 in /usr/local/lib/python3.10/dist-packages (from tldextract>=2.0.1->newspaper3k) (2.1.0)\n",
            "Requirement already satisfied: filelock>=3.0.8 in /usr/local/lib/python3.10/dist-packages (from tldextract>=2.0.1->newspaper3k) (3.16.1)\n"
          ]
        }
      ]
    },
    {
      "cell_type": "code",
      "source": [
        "!pip install lxml_html_clean"
      ],
      "metadata": {
        "colab": {
          "base_uri": "https://localhost:8080/"
        },
        "id": "52VYOe2jbn_6",
        "outputId": "d2553deb-25b2-46de-f72d-b0d4cfe7efdc"
      },
      "execution_count": 30,
      "outputs": [
        {
          "output_type": "stream",
          "name": "stdout",
          "text": [
            "Requirement already satisfied: lxml_html_clean in /usr/local/lib/python3.10/dist-packages (0.4.1)\n",
            "Requirement already satisfied: lxml in /usr/local/lib/python3.10/dist-packages (from lxml_html_clean) (5.3.0)\n"
          ]
        }
      ]
    },
    {
      "cell_type": "markdown",
      "source": [
        "import libraries"
      ],
      "metadata": {
        "id": "dTrKpWt5-DJp"
      }
    },
    {
      "cell_type": "code",
      "source": [
        "from newspaper import Article\n",
        "import random\n",
        "import string\n",
        "import nltk\n",
        "from sklearn.feature_extraction.text import CountVectorizer\n",
        "from sklearn.metrics.pairwise import cosine_similarity\n",
        "import numpy as np\n",
        "import warnings\n",
        "warnings.filterwarnings('ignore')\n",
        "import nltk\n",
        "\n",
        "nltk.download('punkt_tab')\n"
      ],
      "metadata": {
        "colab": {
          "base_uri": "https://localhost:8080/"
        },
        "id": "uOGAeuqHaknF",
        "outputId": "e40aec24-382e-4042-ffd3-0625437f25e5"
      },
      "execution_count": 43,
      "outputs": [
        {
          "output_type": "stream",
          "name": "stderr",
          "text": [
            "[nltk_data] Downloading package punkt_tab to /root/nltk_data...\n",
            "[nltk_data]   Unzipping tokenizers/punkt_tab.zip.\n"
          ]
        },
        {
          "output_type": "execute_result",
          "data": {
            "text/plain": [
              "True"
            ]
          },
          "metadata": {},
          "execution_count": 43
        }
      ]
    },
    {
      "cell_type": "markdown",
      "source": [
        "Downlad the punkt package:\n"
      ],
      "metadata": {
        "id": "yzFG0ghC-Eny"
      }
    },
    {
      "cell_type": "code",
      "source": [
        "nltk.download('punkt', quiet=True)"
      ],
      "metadata": {
        "colab": {
          "base_uri": "https://localhost:8080/"
        },
        "id": "T5agc9Hhb7bu",
        "outputId": "905719d6-d64f-4a20-e0bf-f567b3799ecc"
      },
      "execution_count": 44,
      "outputs": [
        {
          "output_type": "execute_result",
          "data": {
            "text/plain": [
              "True"
            ]
          },
          "metadata": {},
          "execution_count": 44
        }
      ]
    },
    {
      "cell_type": "markdown",
      "source": [
        "Take the information from an article"
      ],
      "metadata": {
        "id": "h-rxz9ZU-ECL"
      }
    },
    {
      "cell_type": "code",
      "source": [
        "article=Article('https://medium.com/@Vera.writes.../artificial-intelligence-in-todays-world-its-impacts-challenges-and-opportunities-796bedf6ac4f')\n",
        "article.download()\n",
        "article.parse()\n",
        "article.nlp()\n",
        "corpus = article.text\n"
      ],
      "metadata": {
        "id": "6Wh40tFrcS2l"
      },
      "execution_count": 45,
      "outputs": []
    },
    {
      "cell_type": "code",
      "source": [
        "print(corpus)"
      ],
      "metadata": {
        "colab": {
          "base_uri": "https://localhost:8080/"
        },
        "id": "f2fot2gfdCx_",
        "outputId": "643516d8-cd06-4cf2-be71-e2e0fc563f05"
      },
      "execution_count": 49,
      "outputs": [
        {
          "output_type": "stream",
          "name": "stdout",
          "text": [
            "AI TECHNOLOGIES\n",
            "\n",
            "Some of the most remarkable AI technologies since the birth of AI are;\n",
            "\n",
            "Machine Learning(ML): Machine learning is a branch of Artificial Intelligence that trains algorithms to accurately predict future outcomes by using the data provided to it. Machine learning algorithms are able to train themselves from past experiences and become better overtime.\n",
            "\n",
            "Many large organizations, small and medium-sized businesses around the world have started adopting and incorporating this technology into their business operations as it has the capability to boost accuracy, efficiency and productivity thereby providing user satisfaction, customer retention and ultimately improving the overall performance and revenue of the organization. An example of an organization utilizing AI in their work operations is Netflix, a very popular streaming sevice organization. Netflix uses machine learning algorithm to provide personalized recommendations of movies and TV shows to its users, based on their watching history.\n",
            "\n",
            "2. Natural Language processing: Natural language processing(NLP) is the ability of computing machines to understand and respond to natural language inputs(human communication sent either through text or audio)\n",
            "\n",
            "This is made possible by the combination of computational linguistics, rule-based language model, machine learning, and deep learning technologies that allows the computer to be able to read or listen to audio and translate the message to a form understood by the computer(1s and 0s basically), the computer learns the pattern of the message and gives an appropriate response to the user. Natural language processing also has the ability to gain insights into the sentiments(sarcasm, confusion, etc)behind text. Interesting, isn’t it?\n",
            "\n",
            "You’ve probably interacted with a NLP-enabled software before without realizing it. Here are some NLP-enabled software used in today’s world; personal digital assistants like Siri, Cortana, Alexa, etc that respond to voice commands, speech-to-text dictation softwares, chatbots, etc.\n",
            "\n",
            "3. Computer Vision: Computer vision is a domain of AI that enables machines to capture, analyze, and extract meaningful information from visual inputs like images or videos. Basically, it allows a computer to see, interpret and understand visual information. Computer vision can be used for objects recognition, object detection, object tracking, etc. Some of its applications can be found in surveillance, robotics, and in automotive vehicles.\n",
            "\n",
            "4. Robotics: Robotics is a field of artificial intelligence that deals with the creation of intelligent artificial beings(Robots) that are capable of autonomously performing repetitive tasks. Robots use computer vision to perceive their surroundings. And with machine learning , they are able to learn and improve their performances based on their previous experiences. Some examples of AI-powered robots are domestic robots, industrial robots, medical robots etc.\n",
            "\n",
            "5. Deep learning: Deep learning is a subset of Artificial Intelligence that is able to process and analyze large amounts of data, using multiple layers of neural networks. Each of these layers are interconnected(just like the human brain), working together to better recognize patterns and produce an accurate output. Examples of its application in today’s world can be found in speech recognitions softwares and in self driving cars.\n",
            "\n",
            "AI IN CYBERSECURITY\n",
            "\n",
            "AI is a really big topic in the cybersecurity industry. According to Security Magazine, there are over 2,200 attacks each day which amounts to over 800,000 attacks each year hence the need for more advanced and efficient security solutions. Fortunately, the recent developments of AI are just what the cybersecurity industry needed.\n",
            "\n",
            "Security teams make use of Artificial intelligence to automate threat detection and speed up incident response. With AI technologies like ML and deep learning, security teams are able to detect(early enough) loopholes and anomalous patterns in a network and prevent what could have resulted in a major cyber attack. AI is able to analyze large volumes of data and significantly reduce the rates of false positives and false negatives derived from alerting systems. AI has the ability to stop potential network intrusion attacks in real time, analyze user behaviours and block insider threats.\n",
            "\n",
            "That’s not all. AI is also being used for spam detection, phishing detection and in authentication processes. With all these benefits of AI, security teams can focus more on higher level analysis. This, in turn brings about reduced work fatigue and consequently creates a healthy working environment space for analysts.\n",
            "\n",
            "On the flip side, AI also comes with its own set of unique security risks. AI technology can be used to aid cybercrimes. This is known as ADVERSARIAL AI. In simple terms, it is a situation whereby cybercriminals utilize AI technologies to carry out their malicious intentions. Cybercriminals use AI to launch sophisticated attacks based on their target’s vulnerability and evade detection by constantly changing their malware signatures.\n",
            "\n",
            "SECURITY CONCERNS RAISED BY AI\n",
            "\n",
            "DATA BIAS : Ever heard the saying “Garbage in, garbage out”? This is literally how AI systems work. They are not so complicated in their processes, they simply work with whatever you give them, therefore good training data results in good outcomes and bias training data will result in bad outcomes, that simple. AI systems built on biased models has the potential to cause real harm.\n",
            "\n",
            ": Ever heard the saying “Garbage in, garbage out”? This is literally how AI systems work. They are not so complicated in their processes, they simply work with whatever you give them, therefore good training data results in good outcomes and bias training data will result in bad outcomes, that simple. AI systems built on biased models has the potential to cause real harm. DATA POISONING : AI is data driven and as such it works based on the data provided to it. The implication of this is that in a situation whereby the training data of an AI technology is manipulated or corrupted, the AI technology will consequently produce false outcomes, this could negatively impact the decision making process in an organization and consequently lead to catastrophic damages to individuals and to the organization at large. Take for instance, in a healthcare industry where the healthcare system’s training data was corrupted, this could lead to wrong medical diagnosis, wrong treatment plans and even death.\n",
            "\n",
            ": AI is data driven and as such it works based on the data provided to it. The implication of this is that in a situation whereby the training data of an AI technology is manipulated or corrupted, the AI technology will consequently produce false outcomes, this could negatively impact the decision making process in an organization and consequently lead to catastrophic damages to individuals and to the organization at large. Take for instance, in a healthcare industry where the healthcare system’s training data was corrupted, this could lead to wrong medical diagnosis, wrong treatment plans and even death. DATA PRIVACY: The ability of AI to collect and process vast amount of data poses a huge security risk to our personal information especially because it is not so clear how this data is handled and managed. Who can have access to this data? How long is our data stored after use before it is discarded? What if our data ends up in the wrong hands, either accidentally or intentionally? WHO SHOULD BE HELD RESPONSIBLE?\n",
            "\n",
            "The ability of AI to collect and process vast amount of data poses a huge security risk to our personal information especially because it is not so clear how this data is handled and managed. Who can have access to this data? How long is our data stored after use before it is discarded? What if our data ends up in the wrong hands, either accidentally or intentionally? AI systems has the potential to spread wrong information on a massive scale. They could be utilized to carry out influence campaigns by using unconventional ways like social media platforms to disseminate wrong information in order to sway people’s opinion(on political and social matters) and manipulate their thoughts. We already live in a world that is data driven, where misinformation can have serious disrupting consequences like violence, political upheaval, social unrests etc, we’ve seen lots cases like this in the past. With powerful AI systems like chatgpt interacting with so many people at once, this is particulaly concerning especially with the fact that there hasn’t been any regulation put in place to facilitate AI safety.\n",
            "\n",
            "To address these issues, it is crucial that;\n",
            "\n",
            "Organizations adopting AI are made aware of its potential risks.\n",
            "\n",
            "Regulations to facilitate AI data handling and safety should be put in place.\n",
            "\n",
            "Developers of AI should incorporate threat modelling into the development cycle of AI systems.\n",
            "\n",
            "Organizations utilizing AI must demonstrate an acceptable level of data security. They must have a strong security plan in place that includes defense in depth and having an incident response plan.\n",
            "\n",
            "AI systems should be continuously monitored and audited.\n",
            "\n",
            "Remember, humans are the weakest link in a network. User education/training should not be treated as an afterthought.\n",
            "\n",
            "AI IN OTHER SECTORS\n",
            "\n",
            "Education: AI has the potential to transform the way teaching and learning is done in today’s world. AI is able to identify knowledge gaps for individual learners and create personalized learnings for their specific needs. With AI-powered gamification programs, learning has never been more fun and engaging, students always feel motivated to learn new things.\n",
            "\n",
            "Manufacturing and industrial: In the industrial industries, AI is used to automate difficult and repetitive tasks, allowing human workers focus on higher level tasks that require creativity, critical thinking, leadership and other soft skills. This collaboration between artificial intelligence and human workers ultimately brings about an increased revenue for the organization.\n",
            "\n",
            "Healthcare: In the healthcare industry, AI compliments the effort of medical personnels for better patient monitoring and care. It can accurately diagnose diseases and create personalized treatment plans for each patient.\n",
            "\n",
            "Business: With AI technologies like NLP, robotics and especially machine learning, businesses are on their way to a whole new level. AI helps to improve the day-to-day operations of a business. It uses the business data to accurately predict future outcomes and make data driven decisions, thereby reducing the risk of human errors in the business that could lead to bad decision making.\n"
          ]
        }
      ]
    },
    {
      "cell_type": "markdown",
      "source": [
        "Tokenization"
      ],
      "metadata": {
        "id": "lMMsPOUb-JnA"
      }
    },
    {
      "cell_type": "code",
      "source": [
        "text = corpus\n",
        "list_w =nltk.sent_tokenize(text)\n"
      ],
      "metadata": {
        "id": "xtKvZKEzotzJ"
      },
      "execution_count": 99,
      "outputs": []
    },
    {
      "cell_type": "code",
      "source": [
        "print(list_w)"
      ],
      "metadata": {
        "colab": {
          "base_uri": "https://localhost:8080/"
        },
        "id": "KrnY2l3ZqBBn",
        "outputId": "2126145d-5c4d-486b-9656-8c52f5b1d2a4"
      },
      "execution_count": 100,
      "outputs": [
        {
          "output_type": "stream",
          "name": "stdout",
          "text": [
            "['AI TECHNOLOGIES\\n\\nSome of the most remarkable AI technologies since the birth of AI are;\\n\\nMachine Learning(ML): Machine learning is a branch of Artificial Intelligence that trains algorithms to accurately predict future outcomes by using the data provided to it.', 'Machine learning algorithms are able to train themselves from past experiences and become better overtime.', 'Many large organizations, small and medium-sized businesses around the world have started adopting and incorporating this technology into their business operations as it has the capability to boost accuracy, efficiency and productivity thereby providing user satisfaction, customer retention and ultimately improving the overall performance and revenue of the organization.', 'An example of an organization utilizing AI in their work operations is Netflix, a very popular streaming sevice organization.', 'Netflix uses machine learning algorithm to provide personalized recommendations of movies and TV shows to its users, based on their watching history.', '2.', 'Natural Language processing: Natural language processing(NLP) is the ability of computing machines to understand and respond to natural language inputs(human communication sent either through text or audio)\\n\\nThis is made possible by the combination of computational linguistics, rule-based language model, machine learning, and deep learning technologies that allows the computer to be able to read or listen to audio and translate the message to a form understood by the computer(1s and 0s basically), the computer learns the pattern of the message and gives an appropriate response to the user.', 'Natural language processing also has the ability to gain insights into the sentiments(sarcasm, confusion, etc)behind text.', 'Interesting, isn’t it?', 'You’ve probably interacted with a NLP-enabled software before without realizing it.', 'Here are some NLP-enabled software used in today’s world; personal digital assistants like Siri, Cortana, Alexa, etc that respond to voice commands, speech-to-text dictation softwares, chatbots, etc.', '3.', 'Computer Vision: Computer vision is a domain of AI that enables machines to capture, analyze, and extract meaningful information from visual inputs like images or videos.', 'Basically, it allows a computer to see, interpret and understand visual information.', 'Computer vision can be used for objects recognition, object detection, object tracking, etc.', 'Some of its applications can be found in surveillance, robotics, and in automotive vehicles.', '4.', 'Robotics: Robotics is a field of artificial intelligence that deals with the creation of intelligent artificial beings(Robots) that are capable of autonomously performing repetitive tasks.', 'Robots use computer vision to perceive their surroundings.', 'And with machine learning , they are able to learn and improve their performances based on their previous experiences.', 'Some examples of AI-powered robots are domestic robots, industrial robots, medical robots etc.', '5.', 'Deep learning: Deep learning is a subset of Artificial Intelligence that is able to process and analyze large amounts of data, using multiple layers of neural networks.', 'Each of these layers are interconnected(just like the human brain), working together to better recognize patterns and produce an accurate output.', 'Examples of its application in today’s world can be found in speech recognitions softwares and in self driving cars.', 'AI IN CYBERSECURITY\\n\\nAI is a really big topic in the cybersecurity industry.', 'According to Security Magazine, there are over 2,200 attacks each day which amounts to over 800,000 attacks each year hence the need for more advanced and efficient security solutions.', 'Fortunately, the recent developments of AI are just what the cybersecurity industry needed.', 'Security teams make use of Artificial intelligence to automate threat detection and speed up incident response.', 'With AI technologies like ML and deep learning, security teams are able to detect(early enough) loopholes and anomalous patterns in a network and prevent what could have resulted in a major cyber attack.', 'AI is able to analyze large volumes of data and significantly reduce the rates of false positives and false negatives derived from alerting systems.', 'AI has the ability to stop potential network intrusion attacks in real time, analyze user behaviours and block insider threats.', 'That’s not all.', 'AI is also being used for spam detection, phishing detection and in authentication processes.', 'With all these benefits of AI, security teams can focus more on higher level analysis.', 'This, in turn brings about reduced work fatigue and consequently creates a healthy working environment space for analysts.', 'On the flip side, AI also comes with its own set of unique security risks.', 'AI technology can be used to aid cybercrimes.', 'This is known as ADVERSARIAL AI.', 'In simple terms, it is a situation whereby cybercriminals utilize AI technologies to carry out their malicious intentions.', 'Cybercriminals use AI to launch sophisticated attacks based on their target’s vulnerability and evade detection by constantly changing their malware signatures.', 'SECURITY CONCERNS RAISED BY AI\\n\\nDATA BIAS : Ever heard the saying “Garbage in, garbage out”?', 'This is literally how AI systems work.', 'They are not so complicated in their processes, they simply work with whatever you give them, therefore good training data results in good outcomes and bias training data will result in bad outcomes, that simple.', 'AI systems built on biased models has the potential to cause real harm.', ': Ever heard the saying “Garbage in, garbage out”?', 'This is literally how AI systems work.', 'They are not so complicated in their processes, they simply work with whatever you give them, therefore good training data results in good outcomes and bias training data will result in bad outcomes, that simple.', 'AI systems built on biased models has the potential to cause real harm.', 'DATA POISONING : AI is data driven and as such it works based on the data provided to it.', 'The implication of this is that in a situation whereby the training data of an AI technology is manipulated or corrupted, the AI technology will consequently produce false outcomes, this could negatively impact the decision making process in an organization and consequently lead to catastrophic damages to individuals and to the organization at large.', 'Take for instance, in a healthcare industry where the healthcare system’s training data was corrupted, this could lead to wrong medical diagnosis, wrong treatment plans and even death.', ': AI is data driven and as such it works based on the data provided to it.', 'The implication of this is that in a situation whereby the training data of an AI technology is manipulated or corrupted, the AI technology will consequently produce false outcomes, this could negatively impact the decision making process in an organization and consequently lead to catastrophic damages to individuals and to the organization at large.', 'Take for instance, in a healthcare industry where the healthcare system’s training data was corrupted, this could lead to wrong medical diagnosis, wrong treatment plans and even death.', 'DATA PRIVACY: The ability of AI to collect and process vast amount of data poses a huge security risk to our personal information especially because it is not so clear how this data is handled and managed.', 'Who can have access to this data?', 'How long is our data stored after use before it is discarded?', 'What if our data ends up in the wrong hands, either accidentally or intentionally?', 'WHO SHOULD BE HELD RESPONSIBLE?', 'The ability of AI to collect and process vast amount of data poses a huge security risk to our personal information especially because it is not so clear how this data is handled and managed.', 'Who can have access to this data?', 'How long is our data stored after use before it is discarded?', 'What if our data ends up in the wrong hands, either accidentally or intentionally?', 'AI systems has the potential to spread wrong information on a massive scale.', 'They could be utilized to carry out influence campaigns by using unconventional ways like social media platforms to disseminate wrong information in order to sway people’s opinion(on political and social matters) and manipulate their thoughts.', 'We already live in a world that is data driven, where misinformation can have serious disrupting consequences like violence, political upheaval, social unrests etc, we’ve seen lots cases like this in the past.', 'With powerful AI systems like chatgpt interacting with so many people at once, this is particulaly concerning especially with the fact that there hasn’t been any regulation put in place to facilitate AI safety.', 'To address these issues, it is crucial that;\\n\\nOrganizations adopting AI are made aware of its potential risks.', 'Regulations to facilitate AI data handling and safety should be put in place.', 'Developers of AI should incorporate threat modelling into the development cycle of AI systems.', 'Organizations utilizing AI must demonstrate an acceptable level of data security.', 'They must have a strong security plan in place that includes defense in depth and having an incident response plan.', 'AI systems should be continuously monitored and audited.', 'Remember, humans are the weakest link in a network.', 'User education/training should not be treated as an afterthought.', 'AI IN OTHER SECTORS\\n\\nEducation: AI has the potential to transform the way teaching and learning is done in today’s world.', 'AI is able to identify knowledge gaps for individual learners and create personalized learnings for their specific needs.', 'With AI-powered gamification programs, learning has never been more fun and engaging, students always feel motivated to learn new things.', 'Manufacturing and industrial: In the industrial industries, AI is used to automate difficult and repetitive tasks, allowing human workers focus on higher level tasks that require creativity, critical thinking, leadership and other soft skills.', 'This collaboration between artificial intelligence and human workers ultimately brings about an increased revenue for the organization.', 'Healthcare: In the healthcare industry, AI compliments the effort of medical personnels for better patient monitoring and care.', 'It can accurately diagnose diseases and create personalized treatment plans for each patient.', 'Business: With AI technologies like NLP, robotics and especially machine learning, businesses are on their way to a whole new level.', 'AI helps to improve the day-to-day operations of a business.', 'It uses the business data to accurately predict future outcomes and make data driven decisions, thereby reducing the risk of human errors in the business that could lead to bad decision making.']\n"
          ]
        }
      ]
    },
    {
      "cell_type": "markdown",
      "source": [
        "A random Greeting :"
      ],
      "metadata": {
        "id": "vVRz0SHZ-LHj"
      }
    },
    {
      "cell_type": "code",
      "source": [
        "def random_greeting(text):\n",
        "  text = text.lower()\n",
        "\n",
        "  bot_greeting=['hru', \"hi\", 'hello', 'salam']\n",
        "  user_greeting = ['hi', 'hello', 'hey', 'greeting']\n",
        "\n",
        "  for word in text.split():\n",
        "       if word in user_greeting:\n",
        "           return random.choice(bot_greeting)\n"
      ],
      "metadata": {
        "id": "vaWh_vo6qOrS"
      },
      "execution_count": 112,
      "outputs": []
    },
    {
      "cell_type": "code",
      "source": [
        "def index_sort(list_var):\n",
        "  length = len(list_var)\n",
        "  list_index = list(range(0, length))\n",
        "\n",
        "  x= list_var\n",
        "\n",
        "\n",
        "  for i in range (length):\n",
        "    for j in range (length):\n",
        "      if x[list_index[i]]>x[list_index[j]]:\n",
        "        temp = list_index[i]\n",
        "        list_index[i]=list_index[i]\n",
        "        list_index[i]=temp\n",
        "  return list_index\n"
      ],
      "metadata": {
        "id": "4BdKYSHDtV7P"
      },
      "execution_count": 118,
      "outputs": []
    },
    {
      "cell_type": "markdown",
      "source": [
        "Bot responses :"
      ],
      "metadata": {
        "id": "2fXw_Yhr-MuJ"
      }
    },
    {
      "cell_type": "code",
      "source": [
        "def bot_response(user_input):\n",
        "  user_input = user_input.lower()\n",
        "  list_w.append(user_input)\n",
        "  bot_response = ''\n",
        "  cm = CountVectorizer().fit_transform(list_w)\n",
        "  similarity_score = cosine_similarity(cm[-1], cm)\n",
        "  similarity_score_list = similarity_score.flatten()\n",
        "  index = index_sort(similarity_score_list)\n",
        "  index = index[1:]\n",
        "  response_flag = 0\n",
        "\n",
        "  j = 0\n",
        "  for i in range(len(index)):\n",
        "    if similarity_score_list[index[i]]>0.0:\n",
        "      bot_response = bot_response+' '+list_w[index[i]]\n",
        "      response_flag = 1\n",
        "      j = j+1\n",
        "    if j>2:\n",
        "      break\n",
        "\n",
        "  if response_flag == 0:\n",
        "    bot_response = bot_response+' '+'sorry, I did not get u'\n",
        "    list_w.remove(user_input)\n",
        "  return bot_response\n"
      ],
      "metadata": {
        "id": "gwuFyPLnruZZ"
      },
      "execution_count": 126,
      "outputs": []
    },
    {
      "cell_type": "markdown",
      "source": [
        "Start the chat :"
      ],
      "metadata": {
        "id": "I79XxvVg-N0u"
      }
    },
    {
      "cell_type": "code",
      "source": [
        "print(' Aya BOT : i am here to answer to ur questions about AI, if u would like to exit type bye')\n",
        "\n",
        "exit_list=['exit','bye','chiao']\n",
        "\n",
        "while(True):\n",
        "  user_input = input()\n",
        "  if user_input.lower() in exit_list:\n",
        "    print('Aya Bot : bye bye chat with u soon')\n",
        "    break\n",
        "  else:\n",
        "      if random_greeting(user_input)!=None:\n",
        "       print('Aya Bot: '+random_greeting(user_input))\n",
        "      else:\n",
        "        print('Aya Bot: '+bot_response(user_input))\n",
        "\n",
        "\n"
      ],
      "metadata": {
        "colab": {
          "base_uri": "https://localhost:8080/"
        },
        "id": "RCX1HR7D06wz",
        "outputId": "951d3c0a-4e8d-4a08-a624-f30b603a1fc3"
      },
      "execution_count": 127,
      "outputs": [
        {
          "output_type": "stream",
          "name": "stdout",
          "text": [
            " Aya BOT : i am here to answer to ur questions about AI, if u would like to exit type bye\n",
            "hi\n",
            "Aya Bot: hru\n",
            "good\n",
            "Aya Bot:  They are not so complicated in their processes, they simply work with whatever you give them, therefore good training data results in good outcomes and bias training data will result in bad outcomes, that simple. They are not so complicated in their processes, they simply work with whatever you give them, therefore good training data results in good outcomes and bias training data will result in bad outcomes, that simple. good\n",
            "i said im good\n",
            "Aya Bot:  They are not so complicated in their processes, they simply work with whatever you give them, therefore good training data results in good outcomes and bias training data will result in bad outcomes, that simple. They are not so complicated in their processes, they simply work with whatever you give them, therefore good training data results in good outcomes and bias training data will result in bad outcomes, that simple. good\n",
            "what is AI ?\n",
            "Aya Bot:  An example of an organization utilizing AI in their work operations is Netflix, a very popular streaming sevice organization. Natural Language processing: Natural language processing(NLP) is the ability of computing machines to understand and respond to natural language inputs(human communication sent either through text or audio)\n",
            "\n",
            "This is made possible by the combination of computational linguistics, rule-based language model, machine learning, and deep learning technologies that allows the computer to be able to read or listen to audio and translate the message to a form understood by the computer(1s and 0s basically), the computer learns the pattern of the message and gives an appropriate response to the user. Computer Vision: Computer vision is a domain of AI that enables machines to capture, analyze, and extract meaningful information from visual inputs like images or videos.\n",
            "exit\n",
            "Aya Bot : bye bye chat with u soon\n"
          ]
        }
      ]
    },
    {
      "cell_type": "markdown",
      "source": [
        "\n",
        "## In conclusion, AyaBot has illuminated the dynamic world of Artificial Intelligence, shedding light on its transformative impacts across industries, the challenges it poses in ethics and equity, and the opportunities it unlocks for innovation and progress. By addressing your questions, AyaBot aims to inspire curiosity, foster understanding, and encourage thoughtful engagement with AI as we navigate its ever-evolving role in shaping our future. Let’s continue to explore and innovate responsibly in this AI-driven era!"
      ],
      "metadata": {
        "id": "QUdUhc3q-O3T"
      }
    }
  ]
}